{
 "cells": [
  {
   "cell_type": "code",
   "execution_count": 1,
   "id": "68ab6d45",
   "metadata": {},
   "outputs": [
    {
     "name": "stdout",
     "output_type": "stream",
     "text": [
      "Requirement already satisfied: pyspark in /Users/esmanur/miniconda3/lib/python3.10/site-packages (3.4.0)\r\n",
      "Requirement already satisfied: py4j==0.10.9.7 in /Users/esmanur/miniconda3/lib/python3.10/site-packages (from pyspark) (0.10.9.7)\r\n"
     ]
    }
   ],
   "source": [
    "!pip install pyspark"
   ]
  },
  {
   "cell_type": "code",
   "execution_count": 2,
   "id": "a872e062",
   "metadata": {},
   "outputs": [
    {
     "name": "stdout",
     "output_type": "stream",
     "text": [
      "Host name: 192.168.1.51\n",
      "IP address: 192.168.1.51\n"
     ]
    }
   ],
   "source": [
    "import socket\n",
    "host_name = socket.gethostname()\n",
    "ip_address = socket.gethostbyname(host_name)\n",
    "print(\"Host name:\", host_name)\n",
    "print(\"ip_address name:\", ip_address)\n"
   ]
  },
  {
   "cell_type": "code",
   "execution_count": 3,
   "id": "3fe3b39a",
   "metadata": {},
   "outputs": [],
   "source": [
    "import pandas as pd\n",
    "from pyspark.sql import SparkSession\n",
    "from pyspark.sql.functions import col, regexp_replace\n",
    "from pyspark import SparkConf,SparkContext\n",
    "from pyspark.sql.functions import split, concat_ws\n",
    "import numpy as np\n",
    "import matplotlib.pyplot as plt"
   ]
  },
  {
   "cell_type": "code",
   "execution_count": 4,
   "id": "2f803d1c",
   "metadata": {},
   "outputs": [],
   "source": [
    "data = pd.read_csv(\"dataset15k.csv\")"
   ]
  },
  {
   "cell_type": "code",
   "execution_count": 5,
   "id": "f2934e7d",
   "metadata": {},
   "outputs": [],
   "source": [
    "data = data.drop(\"Summary\", axis=1)\n",
    "data = data.drop(\"img_m\", axis=1)\n",
    "data = data.drop(\"img_s\", axis=1)\n",
    "data = data.drop(\"img_l\", axis=1)\n",
    "data = data.drop(\"Category\", axis=1)\n",
    "data['isbn'] = pd.to_numeric(data['isbn'], errors='coerce',downcast='integer')\n",
    "data = data.dropna()\n",
    "data['isbn'] = data['isbn'].astype(int)\n",
    "data['user_id'] = data[\"user_id\"].astype(str).str[:4]\n",
    "data['isbn'] = data[\"isbn\"].astype(str).str[:9]\n",
    "new_df = data.drop(\"location\", axis=1)"
   ]
  },
  {
   "cell_type": "code",
   "execution_count": 6,
   "id": "1fd04004",
   "metadata": {},
   "outputs": [],
   "source": [
    "new_df.to_csv(\"newdataset.csv\", index=False)"
   ]
  },
  {
   "cell_type": "code",
   "execution_count": 7,
   "id": "4ec401f0",
   "metadata": {},
   "outputs": [],
   "source": [
    "d = pd.read_csv(\"newdataset.csv\")"
   ]
  },
  {
   "cell_type": "code",
   "execution_count": 8,
   "id": "e3885c09",
   "metadata": {},
   "outputs": [
    {
     "data": {
      "text/html": [
       "<div>\n",
       "<style scoped>\n",
       "    .dataframe tbody tr th:only-of-type {\n",
       "        vertical-align: middle;\n",
       "    }\n",
       "\n",
       "    .dataframe tbody tr th {\n",
       "        vertical-align: top;\n",
       "    }\n",
       "\n",
       "    .dataframe thead th {\n",
       "        text-align: right;\n",
       "    }\n",
       "</style>\n",
       "<table border=\"1\" class=\"dataframe\">\n",
       "  <thead>\n",
       "    <tr style=\"text-align: right;\">\n",
       "      <th></th>\n",
       "      <th>Unnamed: 0</th>\n",
       "      <th>user_id</th>\n",
       "      <th>age</th>\n",
       "      <th>isbn</th>\n",
       "      <th>rating</th>\n",
       "      <th>book_title</th>\n",
       "      <th>book_author</th>\n",
       "      <th>year_of_publication</th>\n",
       "      <th>publisher</th>\n",
       "      <th>Language</th>\n",
       "      <th>city</th>\n",
       "      <th>state</th>\n",
       "      <th>country</th>\n",
       "    </tr>\n",
       "  </thead>\n",
       "  <tbody>\n",
       "    <tr>\n",
       "      <th>0</th>\n",
       "      <td>0</td>\n",
       "      <td>2</td>\n",
       "      <td>18.0000</td>\n",
       "      <td>195153448</td>\n",
       "      <td>0</td>\n",
       "      <td>Classical Mythology</td>\n",
       "      <td>Mark P. O. Morford</td>\n",
       "      <td>2002.0</td>\n",
       "      <td>Oxford University Press</td>\n",
       "      <td>en</td>\n",
       "      <td>stockton</td>\n",
       "      <td>california</td>\n",
       "      <td>usa</td>\n",
       "    </tr>\n",
       "    <tr>\n",
       "      <th>1</th>\n",
       "      <td>1</td>\n",
       "      <td>8</td>\n",
       "      <td>34.7439</td>\n",
       "      <td>2005018</td>\n",
       "      <td>5</td>\n",
       "      <td>Clara Callan</td>\n",
       "      <td>Richard Bruce Wright</td>\n",
       "      <td>2001.0</td>\n",
       "      <td>HarperFlamingo Canada</td>\n",
       "      <td>en</td>\n",
       "      <td>timmins</td>\n",
       "      <td>ontario</td>\n",
       "      <td>canada</td>\n",
       "    </tr>\n",
       "    <tr>\n",
       "      <th>2</th>\n",
       "      <td>2</td>\n",
       "      <td>1140</td>\n",
       "      <td>49.0000</td>\n",
       "      <td>2005018</td>\n",
       "      <td>0</td>\n",
       "      <td>Clara Callan</td>\n",
       "      <td>Richard Bruce Wright</td>\n",
       "      <td>2001.0</td>\n",
       "      <td>HarperFlamingo Canada</td>\n",
       "      <td>en</td>\n",
       "      <td>ottawa</td>\n",
       "      <td>ontario</td>\n",
       "      <td>canada</td>\n",
       "    </tr>\n",
       "    <tr>\n",
       "      <th>3</th>\n",
       "      <td>4</td>\n",
       "      <td>4138</td>\n",
       "      <td>34.7439</td>\n",
       "      <td>2005018</td>\n",
       "      <td>0</td>\n",
       "      <td>Clara Callan</td>\n",
       "      <td>Richard Bruce Wright</td>\n",
       "      <td>2001.0</td>\n",
       "      <td>HarperFlamingo Canada</td>\n",
       "      <td>en</td>\n",
       "      <td>sudbury</td>\n",
       "      <td>ontario</td>\n",
       "      <td>canada</td>\n",
       "    </tr>\n",
       "    <tr>\n",
       "      <th>4</th>\n",
       "      <td>5</td>\n",
       "      <td>6754</td>\n",
       "      <td>30.0000</td>\n",
       "      <td>2005018</td>\n",
       "      <td>8</td>\n",
       "      <td>Clara Callan</td>\n",
       "      <td>Richard Bruce Wright</td>\n",
       "      <td>2001.0</td>\n",
       "      <td>HarperFlamingo Canada</td>\n",
       "      <td>en</td>\n",
       "      <td>toronto</td>\n",
       "      <td>ontario</td>\n",
       "      <td>canada</td>\n",
       "    </tr>\n",
       "  </tbody>\n",
       "</table>\n",
       "</div>"
      ],
      "text/plain": [
       "   Unnamed: 0  user_id      age       isbn  rating           book_title  \\\n",
       "0           0        2  18.0000  195153448       0  Classical Mythology   \n",
       "1           1        8  34.7439    2005018       5         Clara Callan   \n",
       "2           2     1140  49.0000    2005018       0         Clara Callan   \n",
       "3           4     4138  34.7439    2005018       0         Clara Callan   \n",
       "4           5     6754  30.0000    2005018       8         Clara Callan   \n",
       "\n",
       "            book_author  year_of_publication                publisher  \\\n",
       "0    Mark P. O. Morford               2002.0  Oxford University Press   \n",
       "1  Richard Bruce Wright               2001.0    HarperFlamingo Canada   \n",
       "2  Richard Bruce Wright               2001.0    HarperFlamingo Canada   \n",
       "3  Richard Bruce Wright               2001.0    HarperFlamingo Canada   \n",
       "4  Richard Bruce Wright               2001.0    HarperFlamingo Canada   \n",
       "\n",
       "  Language      city       state country  \n",
       "0       en  stockton  california     usa  \n",
       "1       en   timmins     ontario  canada  \n",
       "2       en    ottawa     ontario  canada  \n",
       "3       en   sudbury     ontario  canada  \n",
       "4       en   toronto     ontario  canada  "
      ]
     },
     "execution_count": 8,
     "metadata": {},
     "output_type": "execute_result"
    }
   ],
   "source": [
    "d.head()"
   ]
  },
  {
   "cell_type": "code",
   "execution_count": 9,
   "id": "e0d4e6f3",
   "metadata": {},
   "outputs": [
    {
     "name": "stderr",
     "output_type": "stream",
     "text": [
      "Setting default log level to \"WARN\".\n",
      "To adjust logging level use sc.setLogLevel(newLevel). For SparkR, use setLogLevel(newLevel).\n",
      "23/05/27 19:19:55 WARN NativeCodeLoader: Unable to load native-hadoop library for your platform... using builtin-java classes where applicable\n"
     ]
    }
   ],
   "source": [
    "conf = SparkConf().setAppName(\"191805056_EsmanurDeli\")\n",
    "sc = SparkContext.getOrCreate(conf=conf)"
   ]
  },
  {
   "cell_type": "code",
   "execution_count": 10,
   "id": "d0dbabd1",
   "metadata": {},
   "outputs": [],
   "source": [
    "dataset = sc.textFile(\"newdataset.csv\")"
   ]
  },
  {
   "cell_type": "code",
   "execution_count": 11,
   "id": "fe5386ff",
   "metadata": {},
   "outputs": [
    {
     "name": "stderr",
     "output_type": "stream",
     "text": [
      "                                                                                \r"
     ]
    }
   ],
   "source": [
    "header = dataset.first()"
   ]
  },
  {
   "cell_type": "code",
   "execution_count": 12,
   "id": "bc3cf617",
   "metadata": {},
   "outputs": [],
   "source": [
    "data = dataset.filter(lambda line: line != header)"
   ]
  },
  {
   "cell_type": "code",
   "execution_count": 13,
   "id": "83f83532",
   "metadata": {},
   "outputs": [
    {
     "name": "stdout",
     "output_type": "stream",
     "text": [
      "Number of Books:  13656\n"
     ]
    }
   ],
   "source": [
    "num_books = data.count()\n",
    "print(\"Number of Books: \", num_books)"
   ]
  },
  {
   "cell_type": "markdown",
   "id": "a1d6145c",
   "metadata": {},
   "source": [
    "Visualize data"
   ]
  },
  {
   "cell_type": "code",
   "execution_count": 14,
   "id": "437beaaa",
   "metadata": {},
   "outputs": [],
   "source": [
    "book_fields = data.map(lambda lines: lines.split(\",\"))"
   ]
  },
  {
   "cell_type": "code",
   "execution_count": 15,
   "id": "7181eb27",
   "metadata": {},
   "outputs": [
    {
     "data": {
      "text/plain": [
       "['0',\n",
       " '2',\n",
       " '18.0',\n",
       " '195153448',\n",
       " '0',\n",
       " 'Classical Mythology',\n",
       " 'Mark P. O. Morford',\n",
       " '2002.0',\n",
       " 'Oxford University Press',\n",
       " 'en',\n",
       " 'stockton',\n",
       " 'california',\n",
       " 'usa']"
      ]
     },
     "execution_count": 15,
     "metadata": {},
     "output_type": "execute_result"
    }
   ],
   "source": [
    "book_fields.first()"
   ]
  },
  {
   "cell_type": "markdown",
   "id": "a1ad4c63",
   "metadata": {},
   "source": [
    "Gerekli yerleri nümerik değere çevirme"
   ]
  },
  {
   "cell_type": "code",
   "execution_count": 16,
   "id": "2450ef61",
   "metadata": {},
   "outputs": [],
   "source": [
    "isbn = book_fields.map(lambda fields:fields[3])"
   ]
  },
  {
   "cell_type": "code",
   "execution_count": 17,
   "id": "e777e94e",
   "metadata": {},
   "outputs": [],
   "source": [
    "isbn_filtered = isbn.map(lambda x: int(x) if x.isdigit() else None).filter(lambda x: x is not None)"
   ]
  },
  {
   "cell_type": "code",
   "execution_count": 18,
   "id": "bd6fbbd9",
   "metadata": {},
   "outputs": [],
   "source": [
    "user_id = book_fields.map(lambda fields:fields[1])"
   ]
  },
  {
   "cell_type": "code",
   "execution_count": 19,
   "id": "d508cd2b",
   "metadata": {},
   "outputs": [],
   "source": [
    "user_id_filtered=user_id.map(lambda x: int(x) if x.isdigit() else None).filter(lambda x: x is not None)"
   ]
  },
  {
   "cell_type": "code",
   "execution_count": 20,
   "id": "a75d4453",
   "metadata": {},
   "outputs": [],
   "source": [
    "rating = book_fields.map(lambda fields:fields[4])"
   ]
  },
  {
   "cell_type": "code",
   "execution_count": 21,
   "id": "ddba7d52",
   "metadata": {},
   "outputs": [],
   "source": [
    "rating_filtered = rating.map(lambda x: int(x) if x.isdigit() else None).filter(lambda x: x is not None)"
   ]
  },
  {
   "cell_type": "code",
   "execution_count": 22,
   "id": "aae07bd4",
   "metadata": {},
   "outputs": [],
   "source": [
    "user_ages = book_fields.map(lambda x : float(x[2])).collect()"
   ]
  },
  {
   "cell_type": "code",
   "execution_count": 23,
   "id": "30e69081",
   "metadata": {},
   "outputs": [
    {
     "data": {
      "image/png": "[encoded data removed]",
      "text/plain": [
       "<Figure size 1600x1000 with 1 Axes>"
      ]
     },
     "metadata": {},
     "output_type": "display_data"
    }
   ],
   "source": [
    "plt.hist(user_ages, bins=20, color=\"orange\", density =True)\n",
    "fig = plt.gcf()\n",
    "fig.set_size_inches(16,10)"
   ]
  },
  {
   "cell_type": "code",
   "execution_count": 24,
   "id": "d9f45676",
   "metadata": {},
   "outputs": [
    {
     "data": {
      "image/png": "[encoded data removed]",
      "text/plain": [
       "<Figure size 640x480 with 1 Axes>"
      ]
     },
     "metadata": {},
     "output_type": "display_data"
    }
   ],
   "source": [
    "title_counts = book_fields.map(lambda x: (x[5], 1)).reduceByKey(lambda a, b: a + b)\n",
    "\n",
    "titles = title_counts.collect()\n",
    "\n",
    "sorted_titles = sorted(titles, key=lambda x: x[1], reverse=True)\n",
    "\n",
    "\n",
    "top_10_titles = sorted_titles[:10]\n",
    "\n",
    "\n",
    "x = [title[0] for title in top_10_titles]\n",
    "y = [title[1] for title in top_10_titles]\n",
    "\n",
    "\n",
    "plt.barh(x, y, align='center')\n",
    "plt.xlabel(\"Count\")\n",
    "plt.ylabel(\"Book Title\")\n",
    "plt.title(\"Top 10 Most Read Books\")\n",
    "\n",
    "plt.gca().invert_yaxis()  \n",
    "plt.tight_layout()  \n",
    "\n",
    "plt.show()\n"
   ]
  },
  {
   "cell_type": "code",
   "execution_count": 48,
   "id": "7d923c4e",
   "metadata": {},
   "outputs": [
    {
     "data": {
      "image/png": "[encoded data removed]",
      "text/plain": [
       "<Figure size 640x480 with 1 Axes>"
      ]
     },
     "metadata": {},
     "output_type": "display_data"
    }
   ],
   "source": [
    "ratings = book_fields.map(lambda x: float(x[4])).collect()\n",
    "plt.hist(ratings, bins=10)\n",
    "plt.xlabel(\"Ratings\")\n",
    "plt.ylabel(\"Frequency\")\n",
    "plt.title(\"Rating Distribution\")\n",
    "plt.show()"
   ]
  },
  {
   "cell_type": "code",
   "execution_count": null,
   "id": "d8e52624",
   "metadata": {},
   "outputs": [],
   "source": [
    "publishers = book_fields.map(lambda x: (x[8], 1)).reduceByKey(lambda a, b: a + b).collect()\n",
    "x = [pub[0] for pub in publishers]\n",
    "y = [pub[1] for pub in publishers]\n",
    "\n",
    "fig, (ax1, ax2) = plt.subplots(1, 2, figsize=(10, 5))\n",
    "ax1.pie(y, autopct='%1.1f%%')\n",
    "ax1.set_title('publisher Distribution')\n",
    "\n",
    "ax2.axis('off')\n",
    "table_data = [(x, y) for x, y in zip(x, y)]\n",
    "table = ax2.table(cellText=table_data, colLabels=['Publisher', 'Count'], loc='center')\n",
    "table.auto_set_font_size(False)\n",
    "table.set_fontsize(12)\n",
    "table.scale(1.2, 1.2)\n",
    "table.auto_set_column_width([0, 1])"
   ]
  },
  {
   "cell_type": "code",
   "execution_count": null,
   "id": "a9064789",
   "metadata": {},
   "outputs": [],
   "source": [
    "user_id_filtered.take(3)"
   ]
  },
  {
   "cell_type": "code",
   "execution_count": null,
   "id": "b8147050",
   "metadata": {},
   "outputs": [],
   "source": [
    "rating.take(3)"
   ]
  },
  {
   "cell_type": "markdown",
   "id": "861f6b4d",
   "metadata": {},
   "source": [
    "Reduce kullanımı"
   ]
  },
  {
   "cell_type": "code",
   "execution_count": 26,
   "id": "aa8b9a0d",
   "metadata": {},
   "outputs": [],
   "source": [
    "book_ratings = data.map(lambda line: line.split(\",\")).map(lambda x: (x[6], int(x[4])))\n"
   ]
  },
  {
   "cell_type": "code",
   "execution_count": 27,
   "id": "1ded6edc",
   "metadata": {},
   "outputs": [],
   "source": [
    "average_ratings = book_ratings.reduceByKey(lambda x, y: (x + y) / 2)\n"
   ]
  },
  {
   "cell_type": "code",
   "execution_count": 28,
   "id": "f63df252",
   "metadata": {},
   "outputs": [
    {
     "name": "stdout",
     "output_type": "stream",
     "text": [
      "Book: Mark P. O. Morford, Average Rating: 0\n",
      "Book: Richard Bruce Wright, Average Rating: 6.53369140625\n",
      "Book: E. J. W. Barber, Average Rating: 0\n",
      "Book: Amy Tan, Average Rating: 1.6438236982113863\n",
      "Book: Robert Cowley, Average Rating: 0.5\n",
      "Book: Scott Turow, Average Rating: 0.0\n",
      "Book: Sheila Heti, Average Rating: 2.5\n",
      "Book: R. J. Kaiser, Average Rating: 5\n",
      "Book: Jack Canfield, Average Rating: 5.421875\n",
      "Book: Loren D. Estleman, Average Rating: 6\n",
      "Book: Robert Hendrickson, Average Rating: 1.5\n",
      "Book: Julia Oliver, Average Rating: 3.5\n",
      "Book: John Grisham, Average Rating: 1.446900765421845\n",
      "Book: Toni Morrison, Average Rating: 0.7931664225774198\n",
      "Book: The Onion, Average Rating: 6.9735260009765625\n",
      "Book: J. R. Parrish, Average Rating: 2.5\n",
      "Book: Kathleen Duey, Average Rating: 6\n",
      "Book: MICHAEL CRICHTON, Average Rating: 1.1030332792556412\n",
      "Book: Rosamunde Pilcher, Average Rating: 3.0051557342651214\n",
      "Book: Agatha Christie, Average Rating: 0.051239013671875\n",
      "Book: Louis L'Amour, Average Rating: 3.42333984375\n",
      "Book: Stephan Jaramillo, Average Rating: 0.20703125\n",
      "Book: Mordecai Richler, Average Rating: 7.5\n",
      "Book: Eleanor Cooney, Average Rating: 0.0\n",
      "Book: LAURA HILLENBRAND, Average Rating: 0.8214031777635105\n",
      "Book: Barbara Kingsolver, Average Rating: 4.011903537375613\n",
      "Book: Dean R. Koontz, Average Rating: 5.584492981433868\n",
      "Book: Maeve Binchy, Average Rating: 3.024329283344132\n",
      "Book: Laura J. Mixon, Average Rating: 0\n",
      "Book: JOHN GRISHAM, Average Rating: 4.015821494197627\n",
      "Book: Robert Penn Warren, Average Rating: 3.5390625\n",
      "Book: O. Carol Simonton Md, Average Rating: 0.0\n",
      "Book: Larry McMurtry, Average Rating: 4.499436600861973\n",
      "Book: Carl Sagan, Average Rating: 0.779052734375\n",
      "Book: Joseph Conrad, Average Rating: 0.1875\n",
      "Book: Deepak Chopra, Average Rating: 1.75\n",
      "Book: Charles Noland, Average Rating: 10\n",
      "Book: Valerie Frankel, Average Rating: 5.84954833984375\n",
      "Book:  Book 1)\", Average Rating: 3.099869092005065\n",
      "Book: MICHAEL ONDAATJE, Average Rating: 5.3800661116838455\n",
      "Book:  Madness, Average Rating: 1.125\n",
      "Book: Donald F. Kettl, Average Rating: 8\n",
      "Book: Louis Lamour, Average Rating: 3.5\n",
      "Book: J.D. Salinger, Average Rating: 5.306037144078736\n",
      "Book: John Berendt, Average Rating: 1.6392468719573379\n",
      "Book: Jane Heller, Average Rating: 0.6025478839874268\n",
      "Book: Michael Rips, Average Rating: 0.7689208984375\n",
      "Book: Simon Mawer, Average Rating: 3.0\n",
      "Book:  Poor Dad: What the Rich Teach Their Kids About Money--That the Poor and Middle Class Do Not!\", Average Rating: 7.066366444947677\n",
      "Book: Robert G. Allen, Average Rating: 5.5\n",
      "Book: Mitch Albom, Average Rating: 2.508939939346579\n",
      "Book: Irene Gonzalez Frei, Average Rating: 0\n",
      "Book: Glendon Swarthout, Average Rating: 2.75\n",
      "Book: David Morrell, Average Rating: 2.0693359375\n",
      "Book: Sandra Brown, Average Rating: 3.8443670662939096\n",
      "Book: Stuart Woods, Average Rating: 4.836698597297072\n",
      "Book: Dan Brown, Average Rating: 6.6341676759197865\n",
      "Book:  Revenge, Average Rating: 0.8762398029177092\n",
      "Book:  I'd Be About a Quart Low\", Average Rating: 0.25\n",
      "Book: Stephen King, Average Rating: 1.7660928855982\n",
      "Book: Carolyn Parkhurst, Average Rating: 2.263671875\n",
      "Book: Ben Mezrich, Average Rating: 6.13427734375\n",
      "Book: DANA REEVE, Average Rating: 1.203125\n",
      "Book: Roy, Average Rating: 3.25\n",
      "Book: Rebecca Wells, Average Rating: 1.2504229552376986\n",
      "Book: Robert James Waller, Average Rating: 1.2951361540763218\n",
      "Book: Michael Lewis, Average Rating: 2.25\n",
      "Book: Norman Jetmundsen, Average Rating: 0.0\n",
      "Book: Anne Frasier, Average Rating: 6.894602353794653\n",
      "Book: Ray Bradbury, Average Rating: 7.710186123847961\n",
      "Book: Sue Swift, Average Rating: 0.0\n",
      "Book: Laura Wolf, Average Rating: 0.13612300157546997\n",
      "Book: LOIS DUNCAN, Average Rating: 1.37109375\n",
      "Book: Betty Smith, Average Rating: 3.751209259033203\n",
      "Book: Douglas Adams, Average Rating: 0.08984259504359215\n",
      "Book: Jane Austen, Average Rating: 2.3933112847153097\n",
      "Book: Franklin W. Dixon, Average Rating: 2.59375\n",
      "Book: Lilian Jackson Braun, Average Rating: 0.7598180770874023\n",
      "Book: Piers Anthony, Average Rating: 2.6607404351234436\n",
      "Book: RAY BRADBURY, Average Rating: 2.5297698559306125\n",
      "Book: Paolo Coelho, Average Rating: 0.9948883056640625\n",
      "Book: Arabella Weir, Average Rating: 0.0\n",
      "Book: Kiana Davenport, Average Rating: 4.5\n",
      "Book: Sue Townsend, Average Rating: 5.96875\n",
      "Book: Jonathan Franzen, Average Rating: 0.00360107421875\n",
      "Book:  Zimmerleute / Seymour wird vorgestellt.\", Average Rating: 4.5\n",
      "Book: Anita Diamant, Average Rating: 4.792285084724426\n",
      "Book: Robert S. Levinson, Average Rating: 0.4375\n",
      "Book: Carlo D'Este, Average Rating: 5.5\n",
      "Book: Gina Bari Kolata, Average Rating: 3.294921875\n",
      "Book: David Cordingly, Average Rating: 0\n",
      "Book: David Adams Richards, Average Rating: 1.5\n",
      "Book: Celia Brooks Brown, Average Rating: 2.5008153923554346\n",
      "Book: Mary-Kate & Ashley Olsen, Average Rating: 1.25\n",
      "Book: Robynn Clairday, Average Rating: 1.15625\n",
      "Book: Rich Shapero, Average Rating: 1.1260034590959622\n",
      "Book: Michael Crichton, Average Rating: 2.0675427996689657\n",
      "Book: ISAAC ASIMOV, Average Rating: 0.13000892162813216\n",
      "Book: C.S. Lewis, Average Rating: 4.3671875\n",
      "Book: Frank E. Peretti, Average Rating: 3.5096250703099505\n",
      "Book: ARTHUR PHILLIPS, Average Rating: 0.6183634996414185\n",
      "Book: Charlotte Link, Average Rating: 0.0\n",
      "Book: Richard North Patterson, Average Rating: 0\n",
      "Book: Mark Salzman, Average Rating: 4.73687744140625\n",
      "Book: Harper Lee, Average Rating: 4.508229008015949\n",
      "Book: Anne Rivers Siddons, Average Rating: 1.7678251517936587\n",
      "Book: Mary Higgins Clark, Average Rating: 1.4854325652582747\n",
      "Book: Dean Koontz, Average Rating: 3.8257793534285587\n",
      "Book: Patricia Cornwell, Average Rating: 2.7473865576612866\n",
      "Book: Tim Lahaye, Average Rating: 1.310888892042283\n",
      "Book:  Medicine and Miracles\", Average Rating: 0.279296875\n",
      "Book: Hans Johannes Hoefer, Average Rating: 6\n",
      "Book: Mark Helprin, Average Rating: 0.08664703369140625\n",
      "Book: Chuck Hill, Average Rating: 0\n",
      "Book: David Iglehart, Average Rating: 0\n",
      "Book: SUZANNE FISHER STAPLES, Average Rating: 3.086239814758301\n",
      "Book: Michel Tournier, Average Rating: 3.5\n",
      "Book: Aleksandr Zinoviev, Average Rating: 7\n",
      "Book: Thomas Hardy, Average Rating: 2.587050437927246\n",
      "Book: Benjamin Hoff, Average Rating: 0.8265088732884626\n",
      "Book: Niccolo Machiavelli, Average Rating: 0\n",
      "Book: H. Jackson Brown, Average Rating: 6.140141328500695\n",
      "Book: Robert A. Heinlein, Average Rating: 4.773486575843584\n",
      "Book: Anna Sewell, Average Rating: 6.125\n",
      "Book: Sandra Levy Ceren, Average Rating: 10\n",
      "Book: Mike Gayle, Average Rating: 5.521484375\n",
      "Book: Stel Pavlou, Average Rating: 1.75\n",
      "Book: Dan Quayle, Average Rating: 0.0\n",
      "Book: DAVID FRUM, Average Rating: 4.0\n",
      "Book: J. R. R. Tolkien, Average Rating: 5.097944259643555\n",
      "Book:  J. R. R. Lord of the Rings. 3.)\", Average Rating: 4.169921875\n",
      "Book: Jennifer Crusie, Average Rating: 2.14849853515625\n",
      "Book:  1987: The O'Henry Awards\", Average Rating: 6\n",
      "Book: Ken Follett, Average Rating: 2.5391471250344706\n",
      "Book: John F. Love, Average Rating: 3.625\n",
      "Book:  Miracles, Average Rating: 0\n",
      "Book: Michael Jan Friedman, Average Rating: 0.24615478515625\n",
      "Book:  the Whisper of Your Name (Babylon 5, Average Rating: 1.875\n",
      "Book: James Patterson, Average Rating: 4.082468158953606\n",
      "Book: IRIS JOHANSEN, Average Rating: 0.6306784496794244\n",
      "Book: Joe Hutsko, Average Rating: 3.0390625\n",
      "Book: Anita Shreve, Average Rating: 1.5400493663256662\n",
      "Book:  I'm Gonna Nail My Feet to the Ground\", Average Rating: 4.75\n",
      "Book: Paul Theroux, Average Rating: 2.7743702001796393\n",
      "Book:  My Little Ones: The True Story of a Murderous Mother and Five Innocent Victims\", Average Rating: 7.0\n",
      "Book: Fforde Jasper, Average Rating: 2.5\n",
      "Book: Tom Clancy, Average Rating: 0.11548647289726943\n",
      "Book: Barbara Metzger, Average Rating: 0.8125\n",
      "Book: Gabriel Garcia Marquez, Average Rating: 1.218964930158264\n",
      "Book: Tony Hillerman, Average Rating: 4.34392606301141\n",
      "Book: Rachel Harris, Average Rating: 0\n",
      "Book: Richard Zimler, Average Rating: 4\n",
      "Book: Lorenzo Carcaterra, Average Rating: 1.5012969970703125\n",
      "Book:  Kay. Evil Trilogy.)\", Average Rating: 2.742289456545811\n",
      "Book: Su>skind-Sempe, Average Rating: 0.5\n",
      "Book: Soren Kierkegaard, Average Rating: 0\n",
      "Book: William S. Burroughs, Average Rating: 4.75\n",
      "Book: Arthur C. Clarke, Average Rating: 5.6875\n",
      "Book: Jose Ortega Y Gaset, Average Rating: 8\n",
      "Book: Daphne Du Maurier, Average Rating: 8.027040721356633\n",
      "Book: Nathaniel Hawthorne, Average Rating: 0.739416778087616\n",
      "Book: Nick Page, Average Rating: 7\n",
      "Book: Nicole Burnham, Average Rating: 2.5\n",
      "Book: Susan Grant, Average Rating: 0.125\n",
      "Book: Barbara Vine, Average Rating: 3.11328125\n",
      "Book: Shirley Rousseau Murphy, Average Rating: 0.0625\n",
      "Book: Jane Lindskold, Average Rating: 6.86865234375\n",
      "Book:  Elvis, Average Rating: 1.0859375\n",
      "Book: Stewart O'Nan, Average Rating: 2.53125\n",
      "Book: David Baldacci, Average Rating: 0.5653458367055344\n",
      "Book: Mary Lawson, Average Rating: 2.57554721568166\n",
      "Book: Olivia Goldsmith, Average Rating: 4.516615516269557\n",
      "Book: Helen Fielding, Average Rating: 6.56647701619336\n",
      "Book:  The)\", Average Rating: 3.0\n",
      "Book:  What's the Return Policy?\", Average Rating: 2.5\n",
      "Book: H. Norman Wright, Average Rating: 0.0\n",
      "Book: Schiller, Average Rating: 1.390625\n",
      "Book: Raymond Chandler, Average Rating: 10\n",
      "Book: Fay Weldon, Average Rating: 0\n",
      "Book: Renan Demirkan, Average Rating: 0\n",
      "Book: Michael Moore, Average Rating: 5.19921875\n",
      "Book: Jerome D. Salinger, Average Rating: 4.0\n",
      "Book:  100).\", Average Rating: 0\n",
      "Book: Joanna Trollope, Average Rating: 10\n",
      "Book:  13 3/4 Jahre. cbt. ( Ab 14 J.).\", Average Rating: 6\n",
      "Book: Milan Kundera, Average Rating: 1.181640625\n",
      "Book: Arundhati Roy, Average Rating: 5.890519754902996\n",
      "Book: Mary McGarry Morris, Average Rating: 2.5625\n",
      "Book: Alice Sebold, Average Rating: 3.5064137153141255\n"
     ]
    }
   ],
   "source": [
    "for book, rating in average_ratings.collect():\n",
    "    print(f\"Book: {book}, Average Rating: {rating}\")\n"
   ]
  },
  {
   "cell_type": "markdown",
   "id": "3b23896a",
   "metadata": {},
   "source": [
    "Build recommendation engine using collaborative filtering."
   ]
  },
  {
   "cell_type": "code",
   "execution_count": 29,
   "id": "b1bfd5f3",
   "metadata": {},
   "outputs": [],
   "source": [
    "from pyspark.mllib. recommendation import ALS # Alternating Least Squares \n",
    "from pyspark.mllib.recommendation import Rating\n",
    "ratings = book_fields.map (lambda x: Rating(int(x[1]), int(x[3]), float(x[4])))"
   ]
  },
  {
   "cell_type": "code",
   "execution_count": 30,
   "id": "4d042499",
   "metadata": {},
   "outputs": [
    {
     "data": {
      "text/plain": [
       "[Rating(user=2, product=195153448, rating=0.0),\n",
       " Rating(user=8, product=2005018, rating=5.0),\n",
       " Rating(user=1140, product=2005018, rating=0.0),\n",
       " Rating(user=4138, product=2005018, rating=0.0),\n",
       " Rating(user=6754, product=2005018, rating=8.0)]"
      ]
     },
     "execution_count": 30,
     "metadata": {},
     "output_type": "execute_result"
    }
   ],
   "source": [
    "ratings.take(5)"
   ]
  },
  {
   "cell_type": "markdown",
   "id": "6a303814",
   "metadata": {},
   "source": [
    "Use %70 of dataset for training, rest of them for testing."
   ]
  },
  {
   "cell_type": "code",
   "execution_count": 31,
   "id": "21716136",
   "metadata": {},
   "outputs": [],
   "source": [
    "training_data, test_data = ratings.randomSplit([0.7, 0.3])"
   ]
  },
  {
   "cell_type": "code",
   "execution_count": 32,
   "id": "03bc1562",
   "metadata": {},
   "outputs": [
    {
     "data": {
      "text/plain": [
       "[Rating(user=2, product=195153448, rating=0.0),\n",
       " Rating(user=8, product=2005018, rating=5.0),\n",
       " Rating(user=1140, product=2005018, rating=0.0),\n",
       " Rating(user=4138, product=2005018, rating=0.0),\n",
       " Rating(user=6754, product=2005018, rating=8.0),\n",
       " Rating(user=9605, product=2005018, rating=0.0),\n",
       " Rating(user=1774, product=2005018, rating=0.0),\n",
       " Rating(user=2002, product=2005018, rating=8.0),\n",
       " Rating(user=2109, product=2005018, rating=9.0),\n",
       " Rating(user=2190, product=2005018, rating=7.0)]"
      ]
     },
     "execution_count": 32,
     "metadata": {},
     "output_type": "execute_result"
    }
   ],
   "source": [
    "training_data.take(10)"
   ]
  },
  {
   "cell_type": "code",
   "execution_count": 33,
   "id": "5be65ea1",
   "metadata": {},
   "outputs": [],
   "source": [
    "training_data = training_data.map(lambda x: (x[0], x[1], int(x[2])))"
   ]
  },
  {
   "cell_type": "code",
   "execution_count": 34,
   "id": "1b59a77a",
   "metadata": {},
   "outputs": [
    {
     "data": {
      "text/plain": [
       "[(2, 195153448, 0),\n",
       " (8, 2005018, 5),\n",
       " (1140, 2005018, 0),\n",
       " (4138, 2005018, 0),\n",
       " (6754, 2005018, 8),\n",
       " (9605, 2005018, 0),\n",
       " (1774, 2005018, 0),\n",
       " (2002, 2005018, 8),\n",
       " (2109, 2005018, 9),\n",
       " (2190, 2005018, 7)]"
      ]
     },
     "execution_count": 34,
     "metadata": {},
     "output_type": "execute_result"
    }
   ],
   "source": [
    "training_data.take(10)"
   ]
  },
  {
   "cell_type": "markdown",
   "id": "762150e5",
   "metadata": {},
   "source": [
    "Use ALS (Alternating Least Squares) for training recommendation model with last 4 digit\n",
    "of your student number as a “seed”. Also change the parameters of ALS re-run the\n",
    "algorithm for parameters “rank” (10, 50, 200), “iteration” (10, 50, 200) and “lambda”\n",
    "(0.01, 0.1). "
   ]
  },
  {
   "cell_type": "code",
   "execution_count": 35,
   "id": "d52ebcd0",
   "metadata": {},
   "outputs": [],
   "source": [
    "from pyspark.mllib.evaluation import RegressionMetrics\n",
    "\n",
    "seed = 5056\n",
    "rank_values = [10, 50, 200]\n",
    "iteration_values = [10, 50, 60]\n",
    "lambda_values = [0.01, 0.1]"
   ]
  },
  {
   "cell_type": "code",
   "execution_count": 36,
   "id": "1a479e72",
   "metadata": {},
   "outputs": [],
   "source": [
    "results = []\n",
    "i=1\n",
    "mses = []"
   ]
  },
  {
   "cell_type": "code",
   "execution_count": 37,
   "id": "88836b73",
   "metadata": {},
   "outputs": [
    {
     "name": "stderr",
     "output_type": "stream",
     "text": [
      "23/05/27 19:20:06 WARN InstanceBuilder: Failed to load implementation from:dev.ludovic.netlib.blas.JNIBLAS\n",
      "23/05/27 19:20:06 WARN InstanceBuilder: Failed to load implementation from:dev.ludovic.netlib.blas.VectorBLAS\n",
      "23/05/27 19:20:06 WARN InstanceBuilder: Failed to load implementation from:dev.ludovic.netlib.lapack.JNILAPACK\n",
      "                                                                                \r"
     ]
    },
    {
     "name": "stdout",
     "output_type": "stream",
     "text": [
      "Model 1 Parameters: Rank=10, Iterations=10, Lambda=0.01\n",
      "MSE: 40.12592428318046\n",
      "RMSE: 6.334502686334615\n",
      "-------------------------------\n"
     ]
    },
    {
     "name": "stderr",
     "output_type": "stream",
     "text": [
      "                                                                                \r"
     ]
    },
    {
     "name": "stdout",
     "output_type": "stream",
     "text": [
      "Model 2 Parameters: Rank=10, Iterations=10, Lambda=0.1\n",
      "MSE: 21.959635074562165\n",
      "RMSE: 4.686110868786841\n",
      "-------------------------------\n",
      "Model 3 Parameters: Rank=10, Iterations=50, Lambda=0.01\n",
      "MSE: 28.220672989824244\n",
      "RMSE: 5.312313336939402\n",
      "-------------------------------\n",
      "Model 4 Parameters: Rank=10, Iterations=50, Lambda=0.1\n",
      "MSE: 20.829040420439597\n",
      "RMSE: 4.563884356602345\n",
      "-------------------------------\n"
     ]
    },
    {
     "name": "stderr",
     "output_type": "stream",
     "text": [
      "                                                                                \r"
     ]
    },
    {
     "name": "stdout",
     "output_type": "stream",
     "text": [
      "Model 5 Parameters: Rank=10, Iterations=60, Lambda=0.01\n",
      "MSE: 27.397655126583366\n",
      "RMSE: 5.23427694400892\n",
      "-------------------------------\n",
      "Model 6 Parameters: Rank=10, Iterations=60, Lambda=0.1\n",
      "MSE: 20.78035643494279\n",
      "RMSE: 4.558547623415027\n",
      "-------------------------------\n",
      "Model 7 Parameters: Rank=50, Iterations=10, Lambda=0.01\n",
      "MSE: 19.18983618847727\n",
      "RMSE: 4.380620525505178\n",
      "-------------------------------\n"
     ]
    },
    {
     "name": "stderr",
     "output_type": "stream",
     "text": [
      "                                                                                \r"
     ]
    },
    {
     "name": "stdout",
     "output_type": "stream",
     "text": [
      "Model 8 Parameters: Rank=50, Iterations=10, Lambda=0.1\n",
      "MSE: 18.3800564762466\n",
      "RMSE: 4.287196808667244\n",
      "-------------------------------\n",
      "Model 9 Parameters: Rank=50, Iterations=50, Lambda=0.01\n",
      "MSE: 17.793013484997275\n",
      "RMSE: 4.2181765592489455\n",
      "-------------------------------\n"
     ]
    },
    {
     "name": "stderr",
     "output_type": "stream",
     "text": [
      "                                                                                \r"
     ]
    },
    {
     "name": "stdout",
     "output_type": "stream",
     "text": [
      "Model 10 Parameters: Rank=50, Iterations=50, Lambda=0.1\n",
      "MSE: 17.992438306542944\n",
      "RMSE: 4.241749439387355\n",
      "-------------------------------\n",
      "Model 11 Parameters: Rank=50, Iterations=60, Lambda=0.01\n",
      "MSE: 17.76127382078166\n",
      "RMSE: 4.214412630578745\n",
      "-------------------------------\n"
     ]
    },
    {
     "name": "stderr",
     "output_type": "stream",
     "text": [
      "                                                                                \r"
     ]
    },
    {
     "name": "stdout",
     "output_type": "stream",
     "text": [
      "Model 12 Parameters: Rank=50, Iterations=60, Lambda=0.1\n",
      "MSE: 17.995578095243292\n",
      "RMSE: 4.242119528636987\n",
      "-------------------------------\n"
     ]
    },
    {
     "name": "stderr",
     "output_type": "stream",
     "text": [
      "                                                                                \r"
     ]
    },
    {
     "name": "stdout",
     "output_type": "stream",
     "text": [
      "Model 13 Parameters: Rank=200, Iterations=10, Lambda=0.01\n",
      "MSE: 17.68133169094947\n",
      "RMSE: 4.2049175605414035\n",
      "-------------------------------\n"
     ]
    },
    {
     "name": "stderr",
     "output_type": "stream",
     "text": [
      "                                                                                \r"
     ]
    },
    {
     "name": "stdout",
     "output_type": "stream",
     "text": [
      "Model 14 Parameters: Rank=200, Iterations=10, Lambda=0.1\n",
      "MSE: 18.109918305060813\n",
      "RMSE: 4.255574967623154\n",
      "-------------------------------\n"
     ]
    },
    {
     "name": "stderr",
     "output_type": "stream",
     "text": [
      "                                                                                \r"
     ]
    },
    {
     "name": "stdout",
     "output_type": "stream",
     "text": [
      "Model 15 Parameters: Rank=200, Iterations=50, Lambda=0.01\n",
      "MSE: 17.675094484578434\n",
      "RMSE: 4.204175838922349\n",
      "-------------------------------\n"
     ]
    },
    {
     "name": "stderr",
     "output_type": "stream",
     "text": [
      "                                                                                \r"
     ]
    },
    {
     "name": "stdout",
     "output_type": "stream",
     "text": [
      "Model 16 Parameters: Rank=200, Iterations=50, Lambda=0.1\n",
      "MSE: 17.976486272830904\n",
      "RMSE: 4.239868662214775\n",
      "-------------------------------\n"
     ]
    },
    {
     "name": "stderr",
     "output_type": "stream",
     "text": [
      "                                                                                \r"
     ]
    },
    {
     "name": "stdout",
     "output_type": "stream",
     "text": [
      "Model 17 Parameters: Rank=200, Iterations=60, Lambda=0.01\n",
      "MSE: 17.686271141571556\n",
      "RMSE: 4.20550486167494\n",
      "-------------------------------\n"
     ]
    },
    {
     "name": "stderr",
     "output_type": "stream",
     "text": [
      "[Stage 10791:================================================>     (9 + 1) / 10]\r"
     ]
    },
    {
     "name": "stdout",
     "output_type": "stream",
     "text": [
      "Model 18 Parameters: Rank=200, Iterations=60, Lambda=0.1\n",
      "MSE: 17.98225166985828\n",
      "RMSE: 4.240548510494636\n",
      "-------------------------------\n"
     ]
    },
    {
     "name": "stderr",
     "output_type": "stream",
     "text": [
      "\r",
      "                                                                                \r"
     ]
    }
   ],
   "source": [
    "\n",
    "for rank in rank_values:\n",
    "    for iteration in iteration_values:\n",
    "        for lmbda in lambda_values:\n",
    "            model = ALS.train(\n",
    "                training_data,\n",
    "                rank=rank,\n",
    "                iterations=iteration,\n",
    "                lambda_=lmbda,\n",
    "                seed=seed\n",
    "            )\n",
    "\n",
    "            \n",
    "            test_user_product = test_data.map(lambda x: (x[0], x[1]))\n",
    "            predictions = model.predictAll(test_user_product).map(lambda x: ((x[0], x[1]), x[2]))\n",
    "            rates_and_preds = test_data.map(lambda x: ((x[0], x[1]), x[2])).join(predictions)\n",
    "            mse = rates_and_preds.map(lambda x: (x[1][0] - x[1][1])**2).mean()\n",
    "            rmse = mse**0.5\n",
    "\n",
    "            result = {\n",
    "                \"Model\" : i,\n",
    "                'Rank': rank,\n",
    "                'Iterations': iteration,\n",
    "                'Lambda': lmbda,\n",
    "                'MSE': mse,\n",
    "                'RMSE': rmse\n",
    "            }\n",
    "            results.append(result)\n",
    "            mses.append(mse)\n",
    "            \n",
    "\n",
    "            print(\"Model {} Parameters: Rank={}, Iterations={}, Lambda={}\".format(i,rank, iteration, lmbda))\n",
    "            print(\"MSE:\", mse)\n",
    "            print(\"RMSE:\", rmse)\n",
    "            print(\"-------------------------------\")\n",
    "            i+=1"
   ]
  },
  {
   "cell_type": "markdown",
   "id": "25be8311",
   "metadata": {},
   "source": [
    "ALS'yi farklı parametreler ile çalıştırıp, farklı parametrelerin karşılaştırmalı performans sonucunu, yazdığınız programda (i.e. pyspark - Jupiter notebook ) plot ile görselleştirmelisiniz."
   ]
  },
  {
   "cell_type": "code",
   "execution_count": 38,
   "id": "50a1b49f",
   "metadata": {
    "scrolled": true
   },
   "outputs": [
    {
     "data": {
      "image/png": "[encoded data removed]",
      "text/plain": [
       "<Figure size 640x480 with 1 Axes>"
      ]
     },
     "metadata": {},
     "output_type": "display_data"
    }
   ],
   "source": [
    "import matplotlib.pyplot as plt\n",
    "\n",
    "x = range(1,19) \n",
    "y = mses  \n",
    "\n",
    "# Grafik oluşturma\n",
    "plt.plot(x, y)\n",
    "plt.xlabel('Model Numarası')\n",
    "plt.ylabel('MSE Değerleri')\n",
    "plt.title('Farklı ALS Modellerinin Performansı')\n",
    "plt.xticks(range(1, 19)) \n",
    "\n",
    "plt.show()\n"
   ]
  },
  {
   "cell_type": "code",
   "execution_count": 40,
   "id": "34fff23b",
   "metadata": {},
   "outputs": [
    {
     "name": "stdout",
     "output_type": "stream",
     "text": [
      "17.675094484578434 14\n"
     ]
    }
   ],
   "source": [
    "print(min(mses),mses.index(min(mses)))"
   ]
  },
  {
   "cell_type": "code",
   "execution_count": 41,
   "id": "1824f54b",
   "metadata": {},
   "outputs": [
    {
     "name": "stderr",
     "output_type": "stream",
     "text": [
      "                                                                                \r"
     ]
    }
   ],
   "source": [
    "model15 = ALS.train(\n",
    "                training_data,\n",
    "                rank=200,\n",
    "                iterations=50,\n",
    "                lambda_=0.01,\n",
    "                seed=5056\n",
    "            )"
   ]
  },
  {
   "cell_type": "markdown",
   "id": "619fbeda",
   "metadata": {},
   "source": [
    "ALS ile tahminde bulunup (predict) bunu yan yana gelecek şekilde orijinal (gerçek değerler ile) değerlendirmeler ile karşılaştırması olmalı. En iyi model ile bunu yapıyoruz"
   ]
  },
  {
   "cell_type": "code",
   "execution_count": 43,
   "id": "fa67a2ec",
   "metadata": {},
   "outputs": [
    {
     "name": "stderr",
     "output_type": "stream",
     "text": [
      "\r",
      "[Stage 11527:=========================================>             (6 + 2) / 8]\r",
      "\r",
      "                                                                                \r"
     ]
    },
    {
     "name": "stdout",
     "output_type": "stream",
     "text": [
      "Gerçek Değer: 0.0, Tahmin: 0.0\n",
      "Gerçek Değer: 9.0, Tahmin: 1.6716087154553496\n",
      "Gerçek Değer: 6.0, Tahmin: 0.0\n",
      "Gerçek Değer: 0.0, Tahmin: 0.9473660319078443\n",
      "Gerçek Değer: 8.0, Tahmin: 1.4526278578413643\n",
      "Gerçek Değer: 6.0, Tahmin: -0.2005738786684499\n",
      "Gerçek Değer: 9.0, Tahmin: 0.0\n",
      "Gerçek Değer: 10.0, Tahmin: 0.0\n",
      "Gerçek Değer: 0.0, Tahmin: 2.5255603342426456\n",
      "Gerçek Değer: 8.0, Tahmin: -0.9527121029988375\n",
      "Gerçek Değer: 7.0, Tahmin: 2.3749553738412477\n",
      "Gerçek Değer: 0.0, Tahmin: 7.344382244804679\n",
      "Gerçek Değer: 5.0, Tahmin: 0.0\n",
      "Gerçek Değer: 0.0, Tahmin: 0.0\n",
      "Gerçek Değer: 0.0, Tahmin: 0.0\n",
      "Gerçek Değer: 0.0, Tahmin: 0.24772617075899056\n",
      "Gerçek Değer: 0.0, Tahmin: 0.5329622570182286\n",
      "Gerçek Değer: 0.0, Tahmin: 0.0\n",
      "Gerçek Değer: 10.0, Tahmin: -0.49389740414891653\n",
      "Gerçek Değer: 0.0, Tahmin: 0.0\n",
      "Gerçek Değer: 0.0, Tahmin: 0.0\n",
      "Gerçek Değer: 0.0, Tahmin: 0.0003158454296019464\n",
      "Gerçek Değer: 0.0, Tahmin: 0.0\n",
      "Gerçek Değer: 8.0, Tahmin: -0.2855411780115634\n",
      "Gerçek Değer: 0.0, Tahmin: 0.0\n",
      "Gerçek Değer: 0.0, Tahmin: 2.5407929577251753\n",
      "Gerçek Değer: 0.0, Tahmin: 0.0\n",
      "Gerçek Değer: 0.0, Tahmin: 0.0\n",
      "Gerçek Değer: 0.0, Tahmin: -0.019555200262774963\n",
      "Gerçek Değer: 0.0, Tahmin: 3.547461551377886\n",
      "Gerçek Değer: 0.0, Tahmin: 3.171609804614045\n",
      "Gerçek Değer: 0.0, Tahmin: 2.2588287307530543\n",
      "Gerçek Değer: 6.0, Tahmin: 0.6257023658477157\n",
      "Gerçek Değer: 7.0, Tahmin: 2.972304731720775\n",
      "Gerçek Değer: 0.0, Tahmin: 0.0\n",
      "Gerçek Değer: 7.0, Tahmin: 5.028389864590358\n",
      "Gerçek Değer: 0.0, Tahmin: 2.622426215908316\n",
      "Gerçek Değer: 7.0, Tahmin: 0.0\n",
      "Gerçek Değer: 8.0, Tahmin: 2.7081890953062615\n",
      "Gerçek Değer: 0.0, Tahmin: -0.31115107492357186\n",
      "Gerçek Değer: 0.0, Tahmin: 5.244852431816632\n",
      "Gerçek Değer: 0.0, Tahmin: -0.2025148380585508\n",
      "Gerçek Değer: 0.0, Tahmin: -0.34349223694118786\n",
      "Gerçek Değer: 0.0, Tahmin: 0.02235137685391486\n",
      "Gerçek Değer: 5.0, Tahmin: 3.6566963163403328\n",
      "Gerçek Değer: 0.0, Tahmin: 1.6192859831288944\n",
      "Gerçek Değer: 0.0, Tahmin: 0.29714072245749484\n",
      "Gerçek Değer: 0.0, Tahmin: 0.859886795263413\n",
      "Gerçek Değer: 10.0, Tahmin: 3.070167870285863\n",
      "Gerçek Değer: 7.0, Tahmin: 1.4724327972295272\n",
      "Gerçek Değer: 9.0, Tahmin: -0.314348968390349\n",
      "Gerçek Değer: 0.0, Tahmin: 0.0\n",
      "Gerçek Değer: 0.0, Tahmin: 1.515540429177502\n",
      "Gerçek Değer: 9.0, Tahmin: 1.7347294780602742\n",
      "Gerçek Değer: 0.0, Tahmin: 7.993767940784537\n",
      "Gerçek Değer: 0.0, Tahmin: 0.0\n",
      "Gerçek Değer: 5.0, Tahmin: 1.7110323351867744\n",
      "Gerçek Değer: 0.0, Tahmin: 1.3023228600100576\n",
      "Gerçek Değer: 0.0, Tahmin: 5.062329329871611\n",
      "Gerçek Değer: 0.0, Tahmin: 2.319095983957988\n",
      "Gerçek Değer: 0.0, Tahmin: 2.074246673100532\n",
      "Gerçek Değer: 0.0, Tahmin: 2.3926216580005075\n",
      "Gerçek Değer: 5.0, Tahmin: 0.17177103319323828\n",
      "Gerçek Değer: 6.0, Tahmin: 0.7266205265857502\n",
      "Gerçek Değer: 0.0, Tahmin: 2.9059127764416695\n",
      "Gerçek Değer: 7.0, Tahmin: 0.5301026526667555\n",
      "Gerçek Değer: 7.0, Tahmin: 6.993900620557616\n",
      "Gerçek Değer: 10.0, Tahmin: 2.0463004310170207\n",
      "Gerçek Değer: 0.0, Tahmin: 1.201575454859083\n",
      "Gerçek Değer: 0.0, Tahmin: 1.1526383123415662\n",
      "Gerçek Değer: 0.0, Tahmin: 4.4503158681276656\n",
      "Gerçek Değer: 0.0, Tahmin: 2.307907735166522\n",
      "Gerçek Değer: 0.0, Tahmin: -0.5364597951800952\n",
      "Gerçek Değer: 0.0, Tahmin: 2.9079109953537214\n",
      "Gerçek Değer: 0.0, Tahmin: 1.7526781635464888\n",
      "Gerçek Değer: 9.0, Tahmin: 2.580599931896241\n",
      "Gerçek Değer: 7.0, Tahmin: 0.16216775026387553\n",
      "Gerçek Değer: 0.0, Tahmin: 0.0\n"
     ]
    }
   ],
   "source": [
    "test_data = test_data.collect()\n",
    "\n",
    "for row in test_data[:100]:\n",
    "    user_id = row.user\n",
    "    item_id = row.product\n",
    "    rating = row.rating\n",
    "    \n",
    "    if model15.userFeatures().lookup(user_id) and model15.productFeatures().lookup(item_id):\n",
    "        predicted_rating = model15.predict(user_id, item_id)\n",
    "\n",
    "        print(\"Gerçek Değer: {}, Tahmin: {}\".format(rating, predicted_rating))"
   ]
  },
  {
   "cell_type": "markdown",
   "id": "5d05851a",
   "metadata": {},
   "source": [
    "ALS modeli ile ürünler arasındaki kosinüs benzerliği (cosine similarity) bulunmalı ve X ürününü en çok sevecek 10 kullanıcı belirlenmeli. "
   ]
  },
  {
   "cell_type": "code",
   "execution_count": 44,
   "id": "47cabaa3",
   "metadata": {},
   "outputs": [],
   "source": [
    "def cosinesimilarity(item_id, a, b):\n",
    "    dot = np.dot (a, b)\n",
    "    norma = np.linalg.norm(a)\n",
    "    normb = np.linalg.norm(b)\n",
    "    cos = dot / (norma * normb)\n",
    "    return cos"
   ]
  },
  {
   "cell_type": "code",
   "execution_count": 45,
   "id": "a74cd5c7",
   "metadata": {},
   "outputs": [
    {
     "name": "stdout",
     "output_type": "stream",
     "text": [
      "İtem: 2005018, cosine similarity: 1.0\n",
      "İtem: 374157065, cosine similarity: 1.0\n",
      "İtem: 399135782, cosine similarity: 1.0\n"
     ]
    },
    {
     "name": "stderr",
     "output_type": "stream",
     "text": [
      "/var/folders/4p/4qnh8s0n31s8tylgw5vp1r1r0000gn/T/ipykernel_20852/2317248424.py:5: RuntimeWarning: invalid value encountered in double_scalars\n",
      "  cos = dot / (norma * normb)\n"
     ]
    },
    {
     "name": "stdout",
     "output_type": "stream",
     "text": [
      "İtem: 425176428, cosine similarity: nan\n",
      "İtem: 671870432, cosine similarity: nan\n",
      "İtem: 771074670, cosine similarity: 1.0000000000000002\n",
      "İtem: 155874621, cosine similarity: 1.0000000000000002\n",
      "İtem: 440234743, cosine similarity: 0.9999999999999999\n"
     ]
    }
   ],
   "source": [
    "import numpy as np\n",
    "\n",
    "unique_item_ids = set()\n",
    "\n",
    "for row in test_data[:100]:\n",
    "    item_id = row.product\n",
    "    rating = row.rating\n",
    "    \n",
    "    if item_id not in unique_item_ids: \n",
    "        unique_item_ids.add(item_id)\n",
    "    \n",
    "        if model15.productFeatures().lookup(item_id):\n",
    "      \n",
    "            item_vector = model15.productFeatures ().lookup(item_id)[0]\n",
    "            cos = cosinesimilarity(item_id, item_vector, item_vector)\n",
    "            print(\"İtem: {}, cosine similarity: {}\".format(item_id, cos))"
   ]
  },
  {
   "cell_type": "code",
   "execution_count": 46,
   "id": "d1331d80",
   "metadata": {},
   "outputs": [
    {
     "name": "stdout",
     "output_type": "stream",
     "text": [
      "Rating(user=7816, product=440234743, rating=9.995673543512677)\n",
      "Rating(user=6853, product=440234743, rating=9.995673543512677)\n",
      "Rating(user=1504, product=440234743, rating=9.993501701390874)\n",
      "Rating(user=9364, product=440234743, rating=9.993351922007658)\n",
      "Rating(user=2409, product=440234743, rating=9.99116451246047)\n",
      "Rating(user=1440, product=440234743, rating=9.989040458663432)\n",
      "Rating(user=1292, product=440234743, rating=9.988836278629524)\n",
      "Rating(user=2748, product=440234743, rating=9.988167678239114)\n",
      "Rating(user=1133, product=440234743, rating=9.987328648576199)\n",
      "Rating(user=1468, product=440234743, rating=9.986367046366688)\n"
     ]
    }
   ],
   "source": [
    "productID = 440234743\n",
    "K = 10\n",
    "\n",
    "topKitem = model15.recommendUsers(productID,K)\n",
    "\n",
    "for i in topKitem:\n",
    "    print(i)"
   ]
  },
  {
   "cell_type": "code",
   "execution_count": null,
   "id": "04fb5f0d",
   "metadata": {},
   "outputs": [],
   "source": []
  }
 ],
 "metadata": {
  "kernelspec": {
   "display_name": "Python 3 (ipykernel)",
   "language": "python",
   "name": "python3"
  },
  "language_info": {
   "codemirror_mode": {
    "name": "ipython",
    "version": 3
   },
   "file_extension": ".py",
   "mimetype": "text/x-python",
   "name": "python",
   "nbconvert_exporter": "python",
   "pygments_lexer": "ipython3",
   "version": "3.10.6"
  }
 },
 "nbformat": 4,
 "nbformat_minor": 5
}
